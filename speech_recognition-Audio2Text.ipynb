{
 "cells": [
  {
   "cell_type": "code",
   "execution_count": 1,
   "id": "7a848dd9-601a-4d10-985d-e45cd79e1a71",
   "metadata": {},
   "outputs": [],
   "source": [
    "import os\n",
    "import speech_recognition as sr\n",
    "from pydub import AudioSegment"
   ]
  },
  {
   "cell_type": "code",
   "execution_count": 2,
   "id": "379aa8eb-3fc9-4710-84c4-d832e6d5a13a",
   "metadata": {},
   "outputs": [],
   "source": [
    "# Function to convert MP3 file to WAV\n",
    "def convert_mp3_to_wav(mp3_file, wav_file):\n",
    "    audio = AudioSegment.from_mp3(mp3_file)\n",
    "    audio.export(wav_file, format=\"wav\")"
   ]
  },
  {
   "cell_type": "code",
   "execution_count": 3,
   "id": "5b6aaca7-89f5-41d1-bc07-ad6e59e7764f",
   "metadata": {},
   "outputs": [
    {
     "name": "stdout",
     "output_type": "stream",
     "text": [
      "flac 1.3.1\n",
      "\n"
     ]
    }
   ],
   "source": [
    "import subprocess\n",
    "try:\n",
    "    flac_version = subprocess.check_output(['flac', '--version'])\n",
    "    print(flac_version.decode())\n",
    "except FileNotFoundError:\n",
    "    print(\"FLAC is not installed or not found in the PATH.\")"
   ]
  },
  {
   "cell_type": "code",
   "execution_count": 4,
   "id": "39c7b009-8613-417a-844f-3768c651a747",
   "metadata": {},
   "outputs": [],
   "source": [
    "# Function to transcribe audio from WAV file\n",
    "def transcribe_audio(wav_file):\n",
    "    recognizer = sr.Recognizer()\n",
    "    with sr.AudioFile(wav_file) as source:\n",
    "        audio = recognizer.record(source)  # Read the entire audio file\n",
    "    \n",
    "    try:\n",
    "        # Recognize speech using Google Web Speech API\n",
    "        return recognizer.recognize_google(audio)\n",
    "    except sr.UnknownValueError:\n",
    "        return \"Google Speech Recognition could not understand the audio.\"\n",
    "    except sr.RequestError as e:\n",
    "        return f\"Could not request results from Google Speech Recognition service; {e}\"\n"
   ]
  },
  {
   "cell_type": "code",
   "execution_count": 5,
   "id": "34f2d045-b285-4a8c-8069-3e35c0737a46",
   "metadata": {},
   "outputs": [],
   "source": [
    "# Function to process all MP3 files in a directory\n",
    "def transcribe_all_mp3_in_folder(folder_path):\n",
    "    # Ensure the folder exists\n",
    "    if not os.path.isdir(folder_path):\n",
    "        print(f\"Directory {folder_path} does not exist.\")\n",
    "        return\n",
    "\n",
    "    # Create a folder for WAV files and transcripts\n",
    "    wav_folder = os.path.join(folder_path, \"wav_files\")\n",
    "    transcripts_folder = os.path.join(folder_path, \"transcripts\")\n",
    "    os.makedirs(wav_folder, exist_ok=True)\n",
    "    os.makedirs(transcripts_folder, exist_ok=True)\n",
    "\n",
    "    # Process each MP3 file in the folder\n",
    "    for file_name in os.listdir(folder_path):\n",
    "        if file_name.endswith(\".mp3\"):\n",
    "            mp3_file_path = os.path.join(folder_path, file_name)\n",
    "            wav_file_path = os.path.join(wav_folder, file_name.replace(\".mp3\", \".wav\"))\n",
    "            transcript_file_path = os.path.join(transcripts_folder, file_name.replace(\".mp3\", \".txt\"))\n",
    "            \n",
    "            # Convert MP3 to WAV\n",
    "            print(f\"mp3 file path {mp3_file_path}\")\n",
    "            print(f\"WAV file path {wav_file_path}\")\n",
    "            print(f\"Converting {mp3_file_path} to WAV...\")\n",
    "            convert_mp3_to_wav(mp3_file_path, wav_file_path)\n",
    "            \n",
    "            # Transcribe the WAV file\n",
    "            print(f\"Transcribing {wav_file_path}...\")\n",
    "            transcript = transcribe_audio(wav_file_path)\n",
    "            \n",
    "            # Save the transcript to a text file\n",
    "            with open(transcript_file_path, \"w\") as transcript_file:\n",
    "                transcript_file.write(transcript)\n",
    "            print(f\"Transcript saved to {transcript_file_path}\\n\")"
   ]
  },
  {
   "cell_type": "code",
   "execution_count": 6,
   "id": "c7d12f1c-c4e1-4e76-8a70-db1080b80400",
   "metadata": {},
   "outputs": [
    {
     "name": "stdout",
     "output_type": "stream",
     "text": [
      "mp3 file path CQaudios\\32578889.mp3\n",
      "WAV file path CQaudios\\wav_files\\32578889.wav\n",
      "Converting CQaudios\\32578889.mp3 to WAV...\n",
      "Transcribing CQaudios\\wav_files\\32578889.wav...\n",
      "Transcript saved to CQaudios\\transcripts\\32578889.txt\n",
      "\n",
      "mp3 file path CQaudios\\89041994.mp3\n",
      "WAV file path CQaudios\\wav_files\\89041994.wav\n",
      "Converting CQaudios\\89041994.mp3 to WAV...\n",
      "Transcribing CQaudios\\wav_files\\89041994.wav...\n",
      "Transcript saved to CQaudios\\transcripts\\89041994.txt\n",
      "\n",
      "mp3 file path CQaudios\\89437904.mp3\n",
      "WAV file path CQaudios\\wav_files\\89437904.wav\n",
      "Converting CQaudios\\89437904.mp3 to WAV...\n",
      "Transcribing CQaudios\\wav_files\\89437904.wav...\n",
      "Transcript saved to CQaudios\\transcripts\\89437904.txt\n",
      "\n",
      "mp3 file path CQaudios\\90329888.mp3\n",
      "WAV file path CQaudios\\wav_files\\90329888.wav\n",
      "Converting CQaudios\\90329888.mp3 to WAV...\n",
      "Transcribing CQaudios\\wav_files\\90329888.wav...\n",
      "Transcript saved to CQaudios\\transcripts\\90329888.txt\n",
      "\n",
      "mp3 file path CQaudios\\90859845.mp3\n",
      "WAV file path CQaudios\\wav_files\\90859845.wav\n",
      "Converting CQaudios\\90859845.mp3 to WAV...\n",
      "Transcribing CQaudios\\wav_files\\90859845.wav...\n",
      "Transcript saved to CQaudios\\transcripts\\90859845.txt\n",
      "\n"
     ]
    }
   ],
   "source": [
    "import os\n",
    "# Folder path containing MP3 files\n",
    "folder_path = \"CQaudios\"\n",
    "# Transcribe all MP3 files in the folder\n",
    "transcribe_all_mp3_in_folder(folder_path)"
   ]
  },
  {
   "cell_type": "code",
   "execution_count": 7,
   "id": "b8e3a9ea-53b3-47d5-b6d8-7ec9a5b42ede",
   "metadata": {},
   "outputs": [
    {
     "data": {
      "text/plain": [
       "['32578889.mp3',\n",
       " '89041994.mp3',\n",
       " '89437904.mp3',\n",
       " '90329888.mp3',\n",
       " '90859845.mp3',\n",
       " 'transcripts',\n",
       " 'wav_files']"
      ]
     },
     "execution_count": 7,
     "metadata": {},
     "output_type": "execute_result"
    }
   ],
   "source": [
    "import os\n",
    "os.listdir('CQaudios')"
   ]
  },
  {
   "cell_type": "code",
   "execution_count": 8,
   "id": "7f81a238-217e-4005-a2ec-ef324b162201",
   "metadata": {},
   "outputs": [
    {
     "ename": "AttributeError",
     "evalue": "module 'speech_recognition' has no attribute 'shutil_which'",
     "output_type": "error",
     "traceback": [
      "\u001b[1;31m---------------------------------------------------------------------------\u001b[0m",
      "\u001b[1;31mAttributeError\u001b[0m                            Traceback (most recent call last)",
      "Cell \u001b[1;32mIn[8], line 1\u001b[0m\n\u001b[1;32m----> 1\u001b[0m \u001b[38;5;28mprint\u001b[39m(\u001b[38;5;124m\"\u001b[39m\u001b[38;5;124mshutil_which gives location: \u001b[39m\u001b[38;5;132;01m%s\u001b[39;00m\u001b[38;5;124m\"\u001b[39m \u001b[38;5;241m%\u001b[39m (sr\u001b[38;5;241m.\u001b[39mshutil_which(\u001b[38;5;124m'\u001b[39m\u001b[38;5;124mflac\u001b[39m\u001b[38;5;124m'\u001b[39m)))\n",
      "\u001b[1;31mAttributeError\u001b[0m: module 'speech_recognition' has no attribute 'shutil_which'"
     ]
    }
   ],
   "source": []
  },
  {
   "cell_type": "code",
   "execution_count": null,
   "id": "92e5097d-4176-4870-9e8c-b0a2c928257b",
   "metadata": {},
   "outputs": [],
   "source": []
  }
 ],
 "metadata": {
  "kernelspec": {
   "display_name": "Python 3 (ipykernel)",
   "language": "python",
   "name": "python3"
  },
  "language_info": {
   "codemirror_mode": {
    "name": "ipython",
    "version": 3
   },
   "file_extension": ".py",
   "mimetype": "text/x-python",
   "name": "python",
   "nbconvert_exporter": "python",
   "pygments_lexer": "ipython3",
   "version": "3.12.3"
  }
 },
 "nbformat": 4,
 "nbformat_minor": 5
}
